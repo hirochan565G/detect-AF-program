{
 "cells": [
  {
   "cell_type": "code",
   "execution_count": 1,
   "metadata": {},
   "outputs": [],
   "source": [
    "import numpy as np\n",
    "import matplotlib.pyplot as plt\n",
    "from IPython.display import display\n",
    "import os\n",
    "import glob\n",
    "import pandas as pd\n",
    "\n",
    "from sklearn.model_selection import train_test_split\n",
    "from sklearn.tree import DecisionTreeClassifier\n",
    "from sklearn.model_selection import GridSearchCV\n",
    "from sklearn.metrics import accuracy_score, confusion_matrix, classification_report\n",
    "from sklearn.model_selection import cross_val_score\n",
    "\n",
    "import warnings\n",
    "warnings.filterwarnings('ignore')"
   ]
  },
  {
   "cell_type": "code",
   "execution_count": 2,
   "metadata": {},
   "outputs": [
    {
     "data": {
      "text/html": [
       "<div>\n",
       "<style scoped>\n",
       "    .dataframe tbody tr th:only-of-type {\n",
       "        vertical-align: middle;\n",
       "    }\n",
       "\n",
       "    .dataframe tbody tr th {\n",
       "        vertical-align: top;\n",
       "    }\n",
       "\n",
       "    .dataframe thead th {\n",
       "        text-align: right;\n",
       "    }\n",
       "</style>\n",
       "<table border=\"1\" class=\"dataframe\">\n",
       "  <thead>\n",
       "    <tr style=\"text-align: right;\">\n",
       "      <th></th>\n",
       "      <th>rmssd</th>\n",
       "      <th>sdnn</th>\n",
       "      <th>sdsd</th>\n",
       "      <th>nn50</th>\n",
       "      <th>pnn50</th>\n",
       "      <th>mrri</th>\n",
       "      <th>mhr</th>\n",
       "      <th>ln(sdnn)</th>\n",
       "      <th>stdhr</th>\n",
       "      <th>cvrr</th>\n",
       "      <th>label</th>\n",
       "      <th>label_num</th>\n",
       "    </tr>\n",
       "    <tr>\n",
       "      <th>filename</th>\n",
       "      <th></th>\n",
       "      <th></th>\n",
       "      <th></th>\n",
       "      <th></th>\n",
       "      <th></th>\n",
       "      <th></th>\n",
       "      <th></th>\n",
       "      <th></th>\n",
       "      <th></th>\n",
       "      <th></th>\n",
       "      <th></th>\n",
       "      <th></th>\n",
       "    </tr>\n",
       "  </thead>\n",
       "  <tbody>\n",
       "    <tr>\n",
       "      <th>A00001</th>\n",
       "      <td>100.643575</td>\n",
       "      <td>65.318577</td>\n",
       "      <td>102.027740</td>\n",
       "      <td>4.0</td>\n",
       "      <td>10.526316</td>\n",
       "      <td>761.666667</td>\n",
       "      <td>79.330866</td>\n",
       "      <td>4.179276</td>\n",
       "      <td>6.890820</td>\n",
       "      <td>8.575743</td>\n",
       "      <td>N</td>\n",
       "      <td>0</td>\n",
       "    </tr>\n",
       "    <tr>\n",
       "      <th>A00002</th>\n",
       "      <td>290.780200</td>\n",
       "      <td>222.416471</td>\n",
       "      <td>295.066494</td>\n",
       "      <td>19.0</td>\n",
       "      <td>57.575758</td>\n",
       "      <td>893.434343</td>\n",
       "      <td>72.730171</td>\n",
       "      <td>5.404552</td>\n",
       "      <td>24.004782</td>\n",
       "      <td>24.894551</td>\n",
       "      <td>N</td>\n",
       "      <td>0</td>\n",
       "    </tr>\n",
       "    <tr>\n",
       "      <th>A00003</th>\n",
       "      <td>229.549405</td>\n",
       "      <td>155.065837</td>\n",
       "      <td>231.053020</td>\n",
       "      <td>32.0</td>\n",
       "      <td>41.025641</td>\n",
       "      <td>763.760684</td>\n",
       "      <td>82.196182</td>\n",
       "      <td>5.043850</td>\n",
       "      <td>19.738613</td>\n",
       "      <td>20.302935</td>\n",
       "      <td>N</td>\n",
       "      <td>0</td>\n",
       "    </tr>\n",
       "    <tr>\n",
       "      <th>A00004</th>\n",
       "      <td>237.096636</td>\n",
       "      <td>189.473773</td>\n",
       "      <td>241.103148</td>\n",
       "      <td>24.0</td>\n",
       "      <td>77.419355</td>\n",
       "      <td>936.021505</td>\n",
       "      <td>66.654705</td>\n",
       "      <td>5.244251</td>\n",
       "      <td>13.312296</td>\n",
       "      <td>20.242459</td>\n",
       "      <td>A</td>\n",
       "      <td>1</td>\n",
       "    </tr>\n",
       "    <tr>\n",
       "      <th>A00005</th>\n",
       "      <td>292.018724</td>\n",
       "      <td>211.556696</td>\n",
       "      <td>293.689064</td>\n",
       "      <td>64.0</td>\n",
       "      <td>73.563218</td>\n",
       "      <td>668.084291</td>\n",
       "      <td>98.951104</td>\n",
       "      <td>5.354493</td>\n",
       "      <td>30.106937</td>\n",
       "      <td>31.666168</td>\n",
       "      <td>A</td>\n",
       "      <td>1</td>\n",
       "    </tr>\n",
       "  </tbody>\n",
       "</table>\n",
       "</div>"
      ],
      "text/plain": [
       "               rmssd        sdnn        sdsd  nn50      pnn50        mrri  \\\n",
       "filename                                                                    \n",
       "A00001    100.643575   65.318577  102.027740   4.0  10.526316  761.666667   \n",
       "A00002    290.780200  222.416471  295.066494  19.0  57.575758  893.434343   \n",
       "A00003    229.549405  155.065837  231.053020  32.0  41.025641  763.760684   \n",
       "A00004    237.096636  189.473773  241.103148  24.0  77.419355  936.021505   \n",
       "A00005    292.018724  211.556696  293.689064  64.0  73.563218  668.084291   \n",
       "\n",
       "                mhr  ln(sdnn)      stdhr       cvrr label  label_num  \n",
       "filename                                                              \n",
       "A00001    79.330866  4.179276   6.890820   8.575743     N          0  \n",
       "A00002    72.730171  5.404552  24.004782  24.894551     N          0  \n",
       "A00003    82.196182  5.043850  19.738613  20.302935     N          0  \n",
       "A00004    66.654705  5.244251  13.312296  20.242459     A          1  \n",
       "A00005    98.951104  5.354493  30.106937  31.666168     A          1  "
      ]
     },
     "metadata": {},
     "output_type": "display_data"
    }
   ],
   "source": [
    "# 学習用データを読み取る\n",
    "learning_data = pd.read_pickle('./training_DataFrame/labeled_training_dataset.pkl')\n",
    "display(learning_data.head())"
   ]
  },
  {
   "cell_type": "code",
   "execution_count": 3,
   "metadata": {},
   "outputs": [
    {
     "data": {
      "text/html": [
       "<div>\n",
       "<style scoped>\n",
       "    .dataframe tbody tr th:only-of-type {\n",
       "        vertical-align: middle;\n",
       "    }\n",
       "\n",
       "    .dataframe tbody tr th {\n",
       "        vertical-align: top;\n",
       "    }\n",
       "\n",
       "    .dataframe thead th {\n",
       "        text-align: right;\n",
       "    }\n",
       "</style>\n",
       "<table border=\"1\" class=\"dataframe\">\n",
       "  <thead>\n",
       "    <tr style=\"text-align: right;\">\n",
       "      <th></th>\n",
       "      <th>rmssd</th>\n",
       "      <th>sdnn</th>\n",
       "      <th>sdsd</th>\n",
       "      <th>nn50</th>\n",
       "      <th>pnn50</th>\n",
       "      <th>mrri</th>\n",
       "      <th>mhr</th>\n",
       "      <th>ln(sdnn)</th>\n",
       "      <th>stdhr</th>\n",
       "      <th>cvrr</th>\n",
       "    </tr>\n",
       "    <tr>\n",
       "      <th>filename</th>\n",
       "      <th></th>\n",
       "      <th></th>\n",
       "      <th></th>\n",
       "      <th></th>\n",
       "      <th></th>\n",
       "      <th></th>\n",
       "      <th></th>\n",
       "      <th></th>\n",
       "      <th></th>\n",
       "      <th></th>\n",
       "    </tr>\n",
       "  </thead>\n",
       "  <tbody>\n",
       "    <tr>\n",
       "      <th>A00001</th>\n",
       "      <td>100.643575</td>\n",
       "      <td>65.318577</td>\n",
       "      <td>102.027740</td>\n",
       "      <td>4.0</td>\n",
       "      <td>10.526316</td>\n",
       "      <td>761.666667</td>\n",
       "      <td>79.330866</td>\n",
       "      <td>4.179276</td>\n",
       "      <td>6.890820</td>\n",
       "      <td>8.575743</td>\n",
       "    </tr>\n",
       "    <tr>\n",
       "      <th>A00002</th>\n",
       "      <td>290.780200</td>\n",
       "      <td>222.416471</td>\n",
       "      <td>295.066494</td>\n",
       "      <td>19.0</td>\n",
       "      <td>57.575758</td>\n",
       "      <td>893.434343</td>\n",
       "      <td>72.730171</td>\n",
       "      <td>5.404552</td>\n",
       "      <td>24.004782</td>\n",
       "      <td>24.894551</td>\n",
       "    </tr>\n",
       "    <tr>\n",
       "      <th>A00003</th>\n",
       "      <td>229.549405</td>\n",
       "      <td>155.065837</td>\n",
       "      <td>231.053020</td>\n",
       "      <td>32.0</td>\n",
       "      <td>41.025641</td>\n",
       "      <td>763.760684</td>\n",
       "      <td>82.196182</td>\n",
       "      <td>5.043850</td>\n",
       "      <td>19.738613</td>\n",
       "      <td>20.302935</td>\n",
       "    </tr>\n",
       "    <tr>\n",
       "      <th>A00004</th>\n",
       "      <td>237.096636</td>\n",
       "      <td>189.473773</td>\n",
       "      <td>241.103148</td>\n",
       "      <td>24.0</td>\n",
       "      <td>77.419355</td>\n",
       "      <td>936.021505</td>\n",
       "      <td>66.654705</td>\n",
       "      <td>5.244251</td>\n",
       "      <td>13.312296</td>\n",
       "      <td>20.242459</td>\n",
       "    </tr>\n",
       "    <tr>\n",
       "      <th>A00005</th>\n",
       "      <td>292.018724</td>\n",
       "      <td>211.556696</td>\n",
       "      <td>293.689064</td>\n",
       "      <td>64.0</td>\n",
       "      <td>73.563218</td>\n",
       "      <td>668.084291</td>\n",
       "      <td>98.951104</td>\n",
       "      <td>5.354493</td>\n",
       "      <td>30.106937</td>\n",
       "      <td>31.666168</td>\n",
       "    </tr>\n",
       "  </tbody>\n",
       "</table>\n",
       "</div>"
      ],
      "text/plain": [
       "               rmssd        sdnn        sdsd  nn50      pnn50        mrri  \\\n",
       "filename                                                                    \n",
       "A00001    100.643575   65.318577  102.027740   4.0  10.526316  761.666667   \n",
       "A00002    290.780200  222.416471  295.066494  19.0  57.575758  893.434343   \n",
       "A00003    229.549405  155.065837  231.053020  32.0  41.025641  763.760684   \n",
       "A00004    237.096636  189.473773  241.103148  24.0  77.419355  936.021505   \n",
       "A00005    292.018724  211.556696  293.689064  64.0  73.563218  668.084291   \n",
       "\n",
       "                mhr  ln(sdnn)      stdhr       cvrr  \n",
       "filename                                             \n",
       "A00001    79.330866  4.179276   6.890820   8.575743  \n",
       "A00002    72.730171  5.404552  24.004782  24.894551  \n",
       "A00003    82.196182  5.043850  19.738613  20.302935  \n",
       "A00004    66.654705  5.244251  13.312296  20.242459  \n",
       "A00005    98.951104  5.354493  30.106937  31.666168  "
      ]
     },
     "metadata": {},
     "output_type": "display_data"
    },
    {
     "data": {
      "text/plain": [
       "filename\n",
       "A00001    0\n",
       "A00002    0\n",
       "A00003    0\n",
       "A00004    1\n",
       "A00005    1\n",
       "Name: label_num, dtype: int64"
      ]
     },
     "metadata": {},
     "output_type": "display_data"
    }
   ],
   "source": [
    "# サンプルデータとラベルに分ける\n",
    "X = learning_data.iloc[:,:10]\n",
    "y = learning_data.iloc[:,-1]\n",
    "display(X.head())\n",
    "display(y.head())"
   ]
  },
  {
   "cell_type": "code",
   "execution_count": 4,
   "metadata": {},
   "outputs": [],
   "source": [
    "# グリッドサーチによる最適パラメータ設定のために\n",
    "# 学習用データを訓練データとテストデータに分ける\n",
    "# 心電図の種類に偏りがないように層化サンプリングでstratify=yと指定する\n",
    "X_train, X_test, y_train, y_test = train_test_split(X, y,\n",
    "                                                   test_size=0.25,\n",
    "                                                   random_state=1,\n",
    "                                                   stratify=y)"
   ]
  },
  {
   "cell_type": "code",
   "execution_count": 5,
   "metadata": {},
   "outputs": [],
   "source": [
    "# グリッドサーチ用のパラメータを設定\n",
    "# 今回の特徴量は心拍変動解析（HRV）であり、それぞれのサンプルは連続値ではないので、\n",
    "# データの分割法はエントロピーを使う\n",
    "parameter = {'criterion':['entropy'],\n",
    "            'max_depth':[1,2,3,4,5,6,7,8,None]}"
   ]
  },
  {
   "cell_type": "code",
   "execution_count": 6,
   "metadata": {},
   "outputs": [],
   "source": [
    "# グリッドサーチ\n",
    "# モデルは今回は決定木を使用\n",
    "GridSearch_tree = GridSearchCV(DecisionTreeClassifier(random_state=1),\n",
    "                              parameter,\n",
    "                              cv=5)"
   ]
  },
  {
   "cell_type": "code",
   "execution_count": 7,
   "metadata": {},
   "outputs": [
    {
     "data": {
      "text/plain": [
       "GridSearchCV(cv=5, estimator=DecisionTreeClassifier(random_state=1),\n",
       "             param_grid={'criterion': ['entropy'],\n",
       "                         'max_depth': [1, 2, 3, 4, 5, 6, 7, 8, None]})"
      ]
     },
     "execution_count": 7,
     "metadata": {},
     "output_type": "execute_result"
    }
   ],
   "source": [
    "# 学習\n",
    "GridSearch_tree.fit(X_train, y_train)"
   ]
  },
  {
   "cell_type": "code",
   "execution_count": 8,
   "metadata": {},
   "outputs": [
    {
     "name": "stdout",
     "output_type": "stream",
     "text": [
      "最良のパラメータは: DecisionTreeClassifier(criterion='entropy', max_depth=3, random_state=1)\n",
      "訓練データへのスコアは: 0.654043945769051\n",
      "テストデータへのスコアは: 0.6442577030812325\n"
     ]
    }
   ],
   "source": [
    "print(f'最良のパラメータは: {GridSearch_tree.best_estimator_}')\n",
    "print(f'訓練データへのスコアは: {GridSearch_tree.score(X_train,y_train)}')\n",
    "print(f'テストデータへのスコアは: {GridSearch_tree.score(X_test,y_test)}')"
   ]
  },
  {
   "cell_type": "code",
   "execution_count": 9,
   "metadata": {},
   "outputs": [],
   "source": [
    "# グリッドサーチの結果よりmax_depth=3として\n",
    "# 再度学習用データを決定木で学習させる\n",
    "# テストデータとしては予め別データフレームを使用する\n",
    "\n",
    "# テストデータの読み込み \n",
    "test_data = pd.read_pickle('./test_DataFrame/labeled_test_dataset.pkl')\n",
    "test_data = test_data.sample(frac=1)\n",
    "X_test_final = test_data.iloc[:,:10]\n",
    "y_test_final = test_data.iloc[:,-1]"
   ]
  },
  {
   "cell_type": "code",
   "execution_count": 10,
   "metadata": {},
   "outputs": [
    {
     "data": {
      "text/plain": [
       "DecisionTreeClassifier(criterion='entropy', max_depth=3, random_state=1)"
      ]
     },
     "execution_count": 10,
     "metadata": {},
     "output_type": "execute_result"
    }
   ],
   "source": [
    "tree = DecisionTreeClassifier(criterion='entropy',\n",
    "                             max_depth=3,\n",
    "                             random_state=1)\n",
    "# 全ての学習データをシャッフルする\n",
    "# X_train_final, y_train_final= train_test_split(X, y,\n",
    "#                                                  test_size=None)\n",
    "learning_data_final = learning_data.sample(frac=1)\n",
    "X_train_final = learning_data_final.iloc[:,:10]\n",
    "y_train_final = learning_data_final.iloc[:,-1]\n",
    "# 全ての学習用データを使って学習\n",
    "tree.fit(X_train_final, y_train_final)"
   ]
  },
  {
   "cell_type": "code",
   "execution_count": 11,
   "metadata": {},
   "outputs": [
    {
     "name": "stdout",
     "output_type": "stream",
     "text": [
      "0.6449387040280211\n"
     ]
    }
   ],
   "source": [
    "# 交差検証の平均値\n",
    "score = cross_val_score(tree, X_train_final, y_train_final, cv=5)\n",
    "print(np.mean(score))"
   ]
  },
  {
   "cell_type": "code",
   "execution_count": 12,
   "metadata": {},
   "outputs": [],
   "source": [
    "# 予測値\n",
    "pred_test_final = tree.predict(X_test_final)"
   ]
  },
  {
   "cell_type": "code",
   "execution_count": 13,
   "metadata": {},
   "outputs": [
    {
     "data": {
      "text/plain": [
       "0.5704697986577181"
      ]
     },
     "execution_count": 13,
     "metadata": {},
     "output_type": "execute_result"
    }
   ],
   "source": [
    "# 予測の精度\n",
    "accuracy_score(y_test_final, pred_test_final)"
   ]
  },
  {
   "cell_type": "code",
   "execution_count": 14,
   "metadata": {},
   "outputs": [
    {
     "data": {
      "text/plain": [
       "array([[147,   1,   0,   0],\n",
       "       [ 27,  19,   1,   0],\n",
       "       [ 59,   2,   4,   0],\n",
       "       [ 29,   9,   0,   0]])"
      ]
     },
     "execution_count": 14,
     "metadata": {},
     "output_type": "execute_result"
    }
   ],
   "source": [
    "# 混同行列で分類状況を見る\n",
    "confusion_matrix(y_test_final, pred_test_final)"
   ]
  },
  {
   "cell_type": "code",
   "execution_count": 15,
   "metadata": {},
   "outputs": [
    {
     "name": "stdout",
     "output_type": "stream",
     "text": [
      "              precision    recall  f1-score   support\n",
      "\n",
      "       正常心電図     0.5611    0.9932    0.7171       148\n",
      "        心房細動     0.6129    0.4043    0.4872        47\n",
      "         その他     0.8000    0.0615    0.1143        65\n",
      "          雑音     0.0000    0.0000    0.0000        38\n",
      "\n",
      "    accuracy                         0.5705       298\n",
      "   macro avg     0.4935    0.3648    0.3296       298\n",
      "weighted avg     0.5498    0.5705    0.4579       298\n",
      "\n"
     ]
    }
   ],
   "source": [
    "# 適合率、再現率、F1値\n",
    "print(classification_report(y_test_final, pred_test_final, digits=4,target_names=['正常心電図','心房細動','その他','雑音']))"
   ]
  },
  {
   "cell_type": "markdown",
   "metadata": {},
   "source": [
    "あまり高い精度でなかったが、課題としては\n",
    "\n",
    "・心電図の測定時間が30〜60秒と短めであり、HRVのなかでも時間領域分析データしか取得できず、周波数領域であるLF(交感神経)、HF(副交感神経）を取得するにはARIMAなど時系列分析によるデータの拡張が必要である。\n",
    "\n",
    "・コンセントの交流雑音などの雑音波形が全く判定できていない。\n",
    "デジタルフィルタ設計にさらなる工夫が必要である。\n",
    "\n",
    "・主成分分析などで次元削減や有効な特徴量を選別するなどの工夫が必要である。\n",
    "\n",
    "その他にも検討すべき事柄はあるが、時期を見てバージョンアップしていきたい。"
   ]
  },
  {
   "cell_type": "code",
   "execution_count": null,
   "metadata": {},
   "outputs": [],
   "source": []
  }
 ],
 "metadata": {
  "kernelspec": {
   "display_name": "Python 3",
   "language": "python",
   "name": "python3"
  },
  "language_info": {
   "codemirror_mode": {
    "name": "ipython",
    "version": 3
   },
   "file_extension": ".py",
   "mimetype": "text/x-python",
   "name": "python",
   "nbconvert_exporter": "python",
   "pygments_lexer": "ipython3",
   "version": "3.7.5"
  }
 },
 "nbformat": 4,
 "nbformat_minor": 4
}
